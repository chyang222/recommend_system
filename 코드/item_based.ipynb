{
 "cells": [
  {
   "cell_type": "code",
   "execution_count": 1,
   "metadata": {},
   "outputs": [],
   "source": [
    "import numpy as np\n",
    "import pandas as pd\n",
    "from sklearn.metrics.pairwise import cosine_similarity\n",
    "from sklearn.neighbors import NearestNeighbors\n",
    "from sklearn.model_selection import train_test_split\n",
    "import seaborn as sns"
   ]
  },
  {
   "cell_type": "code",
   "execution_count": 2,
   "metadata": {},
   "outputs": [],
   "source": [
    "df_book=pd.read_csv(\"dataset/Book reviews/Book reviews/BX_Books.csv\",sep=';',encoding = 'latin-1')\n",
    "df_rating=pd.read_csv(\"dataset/Book reviews/Book reviews/BX-Book-Ratings.csv\",sep=';',encoding = 'latin-1')\n",
    "# df_processed=pd.read_csv(\"dataset/Books Data with Category Language and Summary/Preprocessed_data.csv\",sep=';',encoding = 'latin-1')"
   ]
  },
  {
   "cell_type": "markdown",
   "metadata": {},
   "source": [
    "## Data exploration"
   ]
  },
  {
   "cell_type": "code",
   "execution_count": 3,
   "metadata": {},
   "outputs": [
    {
     "name": "stdout",
     "output_type": "stream",
     "text": [
      "ISBN                   object\n",
      "Book-Title             object\n",
      "Book-Author            object\n",
      "Year-Of-Publication     int64\n",
      "Publisher              object\n",
      "Image-URL-S            object\n",
      "Image-URL-M            object\n",
      "Image-URL-L            object\n",
      "dtype: object\n",
      "\n",
      "\n",
      "User-ID         int64\n",
      "ISBN           object\n",
      "Book-Rating     int64\n",
      "dtype: object\n"
     ]
    }
   ],
   "source": [
    "print(df_book.dtypes)\n",
    "print('\\n')\n",
    "print(df_rating.dtypes)"
   ]
  },
  {
   "cell_type": "code",
   "execution_count": 4,
   "metadata": {},
   "outputs": [
    {
     "data": {
      "text/plain": "       Year-Of-Publication\ncount        271379.000000\nmean           1959.756050\nstd             258.011363\nmin               0.000000\n25%            1989.000000\n50%            1995.000000\n75%            2000.000000\nmax            2050.000000",
      "text/html": "<div>\n<style scoped>\n    .dataframe tbody tr th:only-of-type {\n        vertical-align: middle;\n    }\n\n    .dataframe tbody tr th {\n        vertical-align: top;\n    }\n\n    .dataframe thead th {\n        text-align: right;\n    }\n</style>\n<table border=\"1\" class=\"dataframe\">\n  <thead>\n    <tr style=\"text-align: right;\">\n      <th></th>\n      <th>Year-Of-Publication</th>\n    </tr>\n  </thead>\n  <tbody>\n    <tr>\n      <th>count</th>\n      <td>271379.000000</td>\n    </tr>\n    <tr>\n      <th>mean</th>\n      <td>1959.756050</td>\n    </tr>\n    <tr>\n      <th>std</th>\n      <td>258.011363</td>\n    </tr>\n    <tr>\n      <th>min</th>\n      <td>0.000000</td>\n    </tr>\n    <tr>\n      <th>25%</th>\n      <td>1989.000000</td>\n    </tr>\n    <tr>\n      <th>50%</th>\n      <td>1995.000000</td>\n    </tr>\n    <tr>\n      <th>75%</th>\n      <td>2000.000000</td>\n    </tr>\n    <tr>\n      <th>max</th>\n      <td>2050.000000</td>\n    </tr>\n  </tbody>\n</table>\n</div>"
     },
     "execution_count": 4,
     "metadata": {},
     "output_type": "execute_result"
    }
   ],
   "source": [
    "df_book.describe()"
   ]
  },
  {
   "cell_type": "code",
   "execution_count": 5,
   "metadata": {},
   "outputs": [
    {
     "data": {
      "text/plain": "            User-ID   Book-Rating\ncount  1.149780e+06  1.149780e+06\nmean   1.403864e+05  2.866950e+00\nstd    8.056228e+04  3.854184e+00\nmin    2.000000e+00  0.000000e+00\n25%    7.034500e+04  0.000000e+00\n50%    1.410100e+05  0.000000e+00\n75%    2.110280e+05  7.000000e+00\nmax    2.788540e+05  1.000000e+01",
      "text/html": "<div>\n<style scoped>\n    .dataframe tbody tr th:only-of-type {\n        vertical-align: middle;\n    }\n\n    .dataframe tbody tr th {\n        vertical-align: top;\n    }\n\n    .dataframe thead th {\n        text-align: right;\n    }\n</style>\n<table border=\"1\" class=\"dataframe\">\n  <thead>\n    <tr style=\"text-align: right;\">\n      <th></th>\n      <th>User-ID</th>\n      <th>Book-Rating</th>\n    </tr>\n  </thead>\n  <tbody>\n    <tr>\n      <th>count</th>\n      <td>1.149780e+06</td>\n      <td>1.149780e+06</td>\n    </tr>\n    <tr>\n      <th>mean</th>\n      <td>1.403864e+05</td>\n      <td>2.866950e+00</td>\n    </tr>\n    <tr>\n      <th>std</th>\n      <td>8.056228e+04</td>\n      <td>3.854184e+00</td>\n    </tr>\n    <tr>\n      <th>min</th>\n      <td>2.000000e+00</td>\n      <td>0.000000e+00</td>\n    </tr>\n    <tr>\n      <th>25%</th>\n      <td>7.034500e+04</td>\n      <td>0.000000e+00</td>\n    </tr>\n    <tr>\n      <th>50%</th>\n      <td>1.410100e+05</td>\n      <td>0.000000e+00</td>\n    </tr>\n    <tr>\n      <th>75%</th>\n      <td>2.110280e+05</td>\n      <td>7.000000e+00</td>\n    </tr>\n    <tr>\n      <th>max</th>\n      <td>2.788540e+05</td>\n      <td>1.000000e+01</td>\n    </tr>\n  </tbody>\n</table>\n</div>"
     },
     "execution_count": 5,
     "metadata": {},
     "output_type": "execute_result"
    }
   ],
   "source": [
    "df_rating.describe()\n"
   ]
  },
  {
   "cell_type": "code",
   "execution_count": 6,
   "metadata": {},
   "outputs": [
    {
     "data": {
      "text/plain": "0     716109\n8     103736\n10     78610\n7      76457\n9      67541\n5      50974\n6      36924\n4       8904\n3       5996\n2       2759\n1       1770\nName: Book-Rating, dtype: int64"
     },
     "execution_count": 6,
     "metadata": {},
     "output_type": "execute_result"
    }
   ],
   "source": [
    "df_rating['Book-Rating'].value_counts()"
   ]
  },
  {
   "cell_type": "code",
   "execution_count": 7,
   "metadata": {},
   "outputs": [
    {
     "name": "stderr",
     "output_type": "stream",
     "text": [
      "C:\\Users\\ChungHyunwoo\\AppData\\Local\\Temp\\ipykernel_23224\\2710639023.py:1: UserWarning: \n",
      "\n",
      "`distplot` is a deprecated function and will be removed in seaborn v0.14.0.\n",
      "\n",
      "Please adapt your code to use either `displot` (a figure-level function with\n",
      "similar flexibility) or `histplot` (an axes-level function for histograms).\n",
      "\n",
      "For a guide to updating your code to use the new functions, please see\n",
      "https://gist.github.com/mwaskom/de44147ed2974457ad6372750bbe5751\n",
      "\n",
      "  sns.distplot(df_rating['Book-Rating'])\n"
     ]
    },
    {
     "data": {
      "text/plain": "<AxesSubplot: xlabel='Book-Rating', ylabel='Density'>"
     },
     "execution_count": 7,
     "metadata": {},
     "output_type": "execute_result"
    },
    {
     "data": {
      "text/plain": "<Figure size 640x480 with 1 Axes>",
      "image/png": "[encoded data removed]"
     },
     "metadata": {},
     "output_type": "display_data"
    }
   ],
   "source": [
    "sns.distplot(df_rating['Book-Rating'])"
   ]
  },
  {
   "cell_type": "markdown",
   "metadata": {},
   "source": [
    "## Data preprocessing"
   ]
  },
  {
   "cell_type": "code",
   "execution_count": 8,
   "metadata": {},
   "outputs": [],
   "source": [
    "# Replace rating 0 into NaN\n",
    "df_rating.replace(0,np.nan,inplace=True)"
   ]
  },
  {
   "cell_type": "code",
   "execution_count": 9,
   "metadata": {},
   "outputs": [
    {
     "data": {
      "text/plain": "8.0     103736\n10.0     78610\n7.0      76457\n9.0      67541\n5.0      50974\n6.0      36924\n4.0       8904\n3.0       5996\n2.0       2759\n1.0       1770\nName: Book-Rating, dtype: int64"
     },
     "execution_count": 9,
     "metadata": {},
     "output_type": "execute_result"
    }
   ],
   "source": [
    "df_rating['Book-Rating'].value_counts()\n"
   ]
  },
  {
   "cell_type": "code",
   "execution_count": 10,
   "metadata": {},
   "outputs": [
    {
     "name": "stdout",
     "output_type": "stream",
     "text": [
      "ISBN                        0\n",
      "Book-Title                  0\n",
      "Book-Author                 1\n",
      "Year-Of-Publication         0\n",
      "Publisher                   2\n",
      "Image-URL-S                 0\n",
      "Image-URL-M                 0\n",
      "Image-URL-L                 0\n",
      "User-ID                     0\n",
      "Book-Rating            647323\n",
      "dtype: int64\n"
     ]
    },
    {
     "data": {
      "text/plain": "11676     11144\n198711     6456\n153662     5814\n98391      5779\n35859      5646\n          ...  \n72897         1\n51911         1\n151772        1\n158802        1\n259920        1\nName: User-ID, Length: 92107, dtype: int64"
     },
     "execution_count": 10,
     "metadata": {},
     "output_type": "execute_result"
    }
   ],
   "source": [
    "# Merge datasets\n",
    "user_book_rating=pd.merge(df_book,df_rating,on=\"ISBN\")\n",
    "print(user_book_rating.isnull().sum())\n",
    "user_book_rating['User-ID'].value_counts()"
   ]
  },
  {
   "cell_type": "code",
   "execution_count": 11,
   "metadata": {},
   "outputs": [
    {
     "data": {
      "text/plain": "241090"
     },
     "execution_count": 11,
     "metadata": {},
     "output_type": "execute_result"
    }
   ],
   "source": [
    "len(user_book_rating['Book-Title'].unique())"
   ]
  },
  {
   "cell_type": "code",
   "execution_count": 12,
   "metadata": {},
   "outputs": [
    {
     "data": {
      "text/plain": "                                          Book-Title  totalRatingCount\n0   A Light in the Storm: The Civil War Diary of ...                 1\n1                              Always Have Popsicles                 0\n2               Apple Magic (The Collector's series)                 0\n3   Ask Lily (Young Women of Faith: Lily Series, ...                 1\n4   Beyond IBM: Leadership Marketing and Finance ...                 0",
      "text/html": "<div>\n<style scoped>\n    .dataframe tbody tr th:only-of-type {\n        vertical-align: middle;\n    }\n\n    .dataframe tbody tr th {\n        vertical-align: top;\n    }\n\n    .dataframe thead th {\n        text-align: right;\n    }\n</style>\n<table border=\"1\" class=\"dataframe\">\n  <thead>\n    <tr style=\"text-align: right;\">\n      <th></th>\n      <th>Book-Title</th>\n      <th>totalRatingCount</th>\n    </tr>\n  </thead>\n  <tbody>\n    <tr>\n      <th>0</th>\n      <td>A Light in the Storm: The Civil War Diary of ...</td>\n      <td>1</td>\n    </tr>\n    <tr>\n      <th>1</th>\n      <td>Always Have Popsicles</td>\n      <td>0</td>\n    </tr>\n    <tr>\n      <th>2</th>\n      <td>Apple Magic (The Collector's series)</td>\n      <td>0</td>\n    </tr>\n    <tr>\n      <th>3</th>\n      <td>Ask Lily (Young Women of Faith: Lily Series, ...</td>\n      <td>1</td>\n    </tr>\n    <tr>\n      <th>4</th>\n      <td>Beyond IBM: Leadership Marketing and Finance ...</td>\n      <td>0</td>\n    </tr>\n  </tbody>\n</table>\n</div>"
     },
     "execution_count": 12,
     "metadata": {},
     "output_type": "execute_result"
    }
   ],
   "source": [
    "# Total rating count on each books\n",
    "book_ratingCount = (user_book_rating.\n",
    "     groupby(by = ['Book-Title'])['Book-Rating'].\n",
    "     count().\n",
    "     reset_index().\n",
    "     rename(columns = {'Book-Rating': 'totalRatingCount'})\n",
    "     [['Book-Title', 'totalRatingCount']]\n",
    "    )\n",
    "book_ratingCount.head()"
   ]
  },
  {
   "cell_type": "code",
   "execution_count": 13,
   "metadata": {},
   "outputs": [
    {
     "data": {
      "text/plain": "         ISBN           Book-Title           Book-Author  Year-Of-Publication  \\\n0  0195153448  Classical Mythology    Mark P. O. Morford                 2002   \n1  0002005018         Clara Callan  Richard Bruce Wright                 2001   \n2  0002005018         Clara Callan  Richard Bruce Wright                 2001   \n3  0002005018         Clara Callan  Richard Bruce Wright                 2001   \n4  0002005018         Clara Callan  Richard Bruce Wright                 2001   \n\n                 Publisher                                        Image-URL-S  \\\n0  Oxford University Press  http://images.amazon.com/images/P/0195153448.0...   \n1    HarperFlamingo Canada  http://images.amazon.com/images/P/0002005018.0...   \n2    HarperFlamingo Canada  http://images.amazon.com/images/P/0002005018.0...   \n3    HarperFlamingo Canada  http://images.amazon.com/images/P/0002005018.0...   \n4    HarperFlamingo Canada  http://images.amazon.com/images/P/0002005018.0...   \n\n                                         Image-URL-M  \\\n0  http://images.amazon.com/images/P/0195153448.0...   \n1  http://images.amazon.com/images/P/0002005018.0...   \n2  http://images.amazon.com/images/P/0002005018.0...   \n3  http://images.amazon.com/images/P/0002005018.0...   \n4  http://images.amazon.com/images/P/0002005018.0...   \n\n                                         Image-URL-L  User-ID  Book-Rating  \\\n0  http://images.amazon.com/images/P/0195153448.0...        2          NaN   \n1  http://images.amazon.com/images/P/0002005018.0...        8          5.0   \n2  http://images.amazon.com/images/P/0002005018.0...    11400          NaN   \n3  http://images.amazon.com/images/P/0002005018.0...    11676          8.0   \n4  http://images.amazon.com/images/P/0002005018.0...    41385          NaN   \n\n   totalRatingCount  \n0                 1  \n1                 9  \n2                 9  \n3                 9  \n4                 9  ",
      "text/html": "<div>\n<style scoped>\n    .dataframe tbody tr th:only-of-type {\n        vertical-align: middle;\n    }\n\n    .dataframe tbody tr th {\n        vertical-align: top;\n    }\n\n    .dataframe thead th {\n        text-align: right;\n    }\n</style>\n<table border=\"1\" class=\"dataframe\">\n  <thead>\n    <tr style=\"text-align: right;\">\n      <th></th>\n      <th>ISBN</th>\n      <th>Book-Title</th>\n      <th>Book-Author</th>\n      <th>Year-Of-Publication</th>\n      <th>Publisher</th>\n      <th>Image-URL-S</th>\n      <th>Image-URL-M</th>\n      <th>Image-URL-L</th>\n      <th>User-ID</th>\n      <th>Book-Rating</th>\n      <th>totalRatingCount</th>\n    </tr>\n  </thead>\n  <tbody>\n    <tr>\n      <th>0</th>\n      <td>0195153448</td>\n      <td>Classical Mythology</td>\n      <td>Mark P. O. Morford</td>\n      <td>2002</td>\n      <td>Oxford University Press</td>\n      <td>http://images.amazon.com/images/P/0195153448.0...</td>\n      <td>http://images.amazon.com/images/P/0195153448.0...</td>\n      <td>http://images.amazon.com/images/P/0195153448.0...</td>\n      <td>2</td>\n      <td>NaN</td>\n      <td>1</td>\n    </tr>\n    <tr>\n      <th>1</th>\n      <td>0002005018</td>\n      <td>Clara Callan</td>\n      <td>Richard Bruce Wright</td>\n      <td>2001</td>\n      <td>HarperFlamingo Canada</td>\n      <td>http://images.amazon.com/images/P/0002005018.0...</td>\n      <td>http://images.amazon.com/images/P/0002005018.0...</td>\n      <td>http://images.amazon.com/images/P/0002005018.0...</td>\n      <td>8</td>\n      <td>5.0</td>\n      <td>9</td>\n    </tr>\n    <tr>\n      <th>2</th>\n      <td>0002005018</td>\n      <td>Clara Callan</td>\n      <td>Richard Bruce Wright</td>\n      <td>2001</td>\n      <td>HarperFlamingo Canada</td>\n      <td>http://images.amazon.com/images/P/0002005018.0...</td>\n      <td>http://images.amazon.com/images/P/0002005018.0...</td>\n      <td>http://images.amazon.com/images/P/0002005018.0...</td>\n      <td>11400</td>\n      <td>NaN</td>\n      <td>9</td>\n    </tr>\n    <tr>\n      <th>3</th>\n      <td>0002005018</td>\n      <td>Clara Callan</td>\n      <td>Richard Bruce Wright</td>\n      <td>2001</td>\n      <td>HarperFlamingo Canada</td>\n      <td>http://images.amazon.com/images/P/0002005018.0...</td>\n      <td>http://images.amazon.com/images/P/0002005018.0...</td>\n      <td>http://images.amazon.com/images/P/0002005018.0...</td>\n      <td>11676</td>\n      <td>8.0</td>\n      <td>9</td>\n    </tr>\n    <tr>\n      <th>4</th>\n      <td>0002005018</td>\n      <td>Clara Callan</td>\n      <td>Richard Bruce Wright</td>\n      <td>2001</td>\n      <td>HarperFlamingo Canada</td>\n      <td>http://images.amazon.com/images/P/0002005018.0...</td>\n      <td>http://images.amazon.com/images/P/0002005018.0...</td>\n      <td>http://images.amazon.com/images/P/0002005018.0...</td>\n      <td>41385</td>\n      <td>NaN</td>\n      <td>9</td>\n    </tr>\n  </tbody>\n</table>\n</div>"
     },
     "execution_count": 13,
     "metadata": {},
     "output_type": "execute_result"
    }
   ],
   "source": [
    "# Merge rating count\n",
    "rating_with_totalRatingCount = user_book_rating.merge(book_ratingCount, left_on = 'Book-Title', right_on = 'Book-Title', how = 'left')\n",
    "rating_with_totalRatingCount.head()"
   ]
  },
  {
   "cell_type": "code",
   "execution_count": 14,
   "metadata": {},
   "outputs": [
    {
     "name": "stdout",
     "output_type": "stream",
     "text": [
      "count   241090.000\n",
      "mean         1.592\n",
      "std          6.993\n",
      "min          0.000\n",
      "25%          0.000\n",
      "50%          1.000\n",
      "75%          1.000\n",
      "max        707.000\n",
      "Name: totalRatingCount, dtype: float64\n"
     ]
    }
   ],
   "source": [
    "pd.set_option('display.float_format', lambda x: '%.3f' % x)\n",
    "print(book_ratingCount['totalRatingCount'].describe())"
   ]
  },
  {
   "cell_type": "code",
   "execution_count": 15,
   "metadata": {},
   "outputs": [
    {
     "data": {
      "text/plain": "          ISBN              Book-Title Book-Author  Year-Of-Publication  \\\n30  0399135782  The Kitchen God's Wife     Amy Tan                 1991   \n31  0399135782  The Kitchen God's Wife     Amy Tan                 1991   \n32  0399135782  The Kitchen God's Wife     Amy Tan                 1991   \n33  0399135782  The Kitchen God's Wife     Amy Tan                 1991   \n34  0399135782  The Kitchen God's Wife     Amy Tan                 1991   \n\n           Publisher                                        Image-URL-S  \\\n30  Putnam Pub Group  http://images.amazon.com/images/P/0399135782.0...   \n31  Putnam Pub Group  http://images.amazon.com/images/P/0399135782.0...   \n32  Putnam Pub Group  http://images.amazon.com/images/P/0399135782.0...   \n33  Putnam Pub Group  http://images.amazon.com/images/P/0399135782.0...   \n34  Putnam Pub Group  http://images.amazon.com/images/P/0399135782.0...   \n\n                                          Image-URL-M  \\\n30  http://images.amazon.com/images/P/0399135782.0...   \n31  http://images.amazon.com/images/P/0399135782.0...   \n32  http://images.amazon.com/images/P/0399135782.0...   \n33  http://images.amazon.com/images/P/0399135782.0...   \n34  http://images.amazon.com/images/P/0399135782.0...   \n\n                                          Image-URL-L  User-ID  Book-Rating  \\\n30  http://images.amazon.com/images/P/0399135782.0...        8          NaN   \n31  http://images.amazon.com/images/P/0399135782.0...    11676        9.000   \n32  http://images.amazon.com/images/P/0399135782.0...    29526        9.000   \n33  http://images.amazon.com/images/P/0399135782.0...    36836          NaN   \n34  http://images.amazon.com/images/P/0399135782.0...    46398        9.000   \n\n    totalRatingCount  \n30               116  \n31               116  \n32               116  \n33               116  \n34               116  ",
      "text/html": "<div>\n<style scoped>\n    .dataframe tbody tr th:only-of-type {\n        vertical-align: middle;\n    }\n\n    .dataframe tbody tr th {\n        vertical-align: top;\n    }\n\n    .dataframe thead th {\n        text-align: right;\n    }\n</style>\n<table border=\"1\" class=\"dataframe\">\n  <thead>\n    <tr style=\"text-align: right;\">\n      <th></th>\n      <th>ISBN</th>\n      <th>Book-Title</th>\n      <th>Book-Author</th>\n      <th>Year-Of-Publication</th>\n      <th>Publisher</th>\n      <th>Image-URL-S</th>\n      <th>Image-URL-M</th>\n      <th>Image-URL-L</th>\n      <th>User-ID</th>\n      <th>Book-Rating</th>\n      <th>totalRatingCount</th>\n    </tr>\n  </thead>\n  <tbody>\n    <tr>\n      <th>30</th>\n      <td>0399135782</td>\n      <td>The Kitchen God's Wife</td>\n      <td>Amy Tan</td>\n      <td>1991</td>\n      <td>Putnam Pub Group</td>\n      <td>http://images.amazon.com/images/P/0399135782.0...</td>\n      <td>http://images.amazon.com/images/P/0399135782.0...</td>\n      <td>http://images.amazon.com/images/P/0399135782.0...</td>\n      <td>8</td>\n      <td>NaN</td>\n      <td>116</td>\n    </tr>\n    <tr>\n      <th>31</th>\n      <td>0399135782</td>\n      <td>The Kitchen God's Wife</td>\n      <td>Amy Tan</td>\n      <td>1991</td>\n      <td>Putnam Pub Group</td>\n      <td>http://images.amazon.com/images/P/0399135782.0...</td>\n      <td>http://images.amazon.com/images/P/0399135782.0...</td>\n      <td>http://images.amazon.com/images/P/0399135782.0...</td>\n      <td>11676</td>\n      <td>9.000</td>\n      <td>116</td>\n    </tr>\n    <tr>\n      <th>32</th>\n      <td>0399135782</td>\n      <td>The Kitchen God's Wife</td>\n      <td>Amy Tan</td>\n      <td>1991</td>\n      <td>Putnam Pub Group</td>\n      <td>http://images.amazon.com/images/P/0399135782.0...</td>\n      <td>http://images.amazon.com/images/P/0399135782.0...</td>\n      <td>http://images.amazon.com/images/P/0399135782.0...</td>\n      <td>29526</td>\n      <td>9.000</td>\n      <td>116</td>\n    </tr>\n    <tr>\n      <th>33</th>\n      <td>0399135782</td>\n      <td>The Kitchen God's Wife</td>\n      <td>Amy Tan</td>\n      <td>1991</td>\n      <td>Putnam Pub Group</td>\n      <td>http://images.amazon.com/images/P/0399135782.0...</td>\n      <td>http://images.amazon.com/images/P/0399135782.0...</td>\n      <td>http://images.amazon.com/images/P/0399135782.0...</td>\n      <td>36836</td>\n      <td>NaN</td>\n      <td>116</td>\n    </tr>\n    <tr>\n      <th>34</th>\n      <td>0399135782</td>\n      <td>The Kitchen God's Wife</td>\n      <td>Amy Tan</td>\n      <td>1991</td>\n      <td>Putnam Pub Group</td>\n      <td>http://images.amazon.com/images/P/0399135782.0...</td>\n      <td>http://images.amazon.com/images/P/0399135782.0...</td>\n      <td>http://images.amazon.com/images/P/0399135782.0...</td>\n      <td>46398</td>\n      <td>9.000</td>\n      <td>116</td>\n    </tr>\n  </tbody>\n</table>\n</div>"
     },
     "execution_count": 15,
     "metadata": {},
     "output_type": "execute_result"
    }
   ],
   "source": [
    "# Extract books with totalRatingCount>=50\n",
    "popularity_threshold = 50\n",
    "rating_popular_book = rating_with_totalRatingCount.query('totalRatingCount >= @popularity_threshold')\n",
    "rating_popular_book.head()"
   ]
  },
  {
   "cell_type": "code",
   "execution_count": 16,
   "metadata": {},
   "outputs": [
    {
     "name": "stdout",
     "output_type": "stream",
     "text": [
      "11676     886\n",
      "35859     402\n",
      "16795     315\n",
      "238120    304\n",
      "153662    286\n",
      "         ... \n",
      "32942       1\n",
      "1108        1\n",
      "271471      1\n",
      "271087      1\n",
      "228196      1\n",
      "Name: User-ID, Length: 35223, dtype: int64\n",
      "Wild Animus                                                     2502\n",
      "The Lovely Bones: A Novel                                       1295\n",
      "The Da Vinci Code                                                898\n",
      "A Painted House                                                  838\n",
      "The Nanny Diaries: A Novel                                       828\n",
      "                                                                ... \n",
      "Jitterbug Perfume                                                 88\n",
      "Hearts In Atlantis : New Fiction                                  87\n",
      "The Laughing Corpse (Anita Blake Vampire Hunter (Paperback))      87\n",
      "The Hobbit                                                        80\n",
      "Free                                                              56\n",
      "Name: Book-Title, Length: 651, dtype: int64\n"
     ]
    }
   ],
   "source": [
    "# Show value count on features\n",
    "print(rating_popular_book['User-ID'].value_counts())\n",
    "print(rating_popular_book['Book-Title'].value_counts())"
   ]
  },
  {
   "cell_type": "code",
   "execution_count": 17,
   "metadata": {},
   "outputs": [
    {
     "data": {
      "text/plain": "User-ID                9       16      26      32      42      51      91      \\\nBook-Title                                                                      \n1984                      NaN     NaN     NaN     NaN     NaN     NaN     NaN   \n1st to Die: A Novel       NaN     NaN     NaN     NaN     NaN     NaN     NaN   \n2nd Chance                NaN     NaN     NaN     NaN     NaN     NaN     NaN   \n4 Blondes                 NaN     NaN     NaN     NaN     NaN     NaN     NaN   \n84 Charing Cross Road     NaN     NaN     NaN     NaN     NaN     NaN     NaN   \n\nUser-ID                97      99      114     ...  278800  278807  278824  \\\nBook-Title                                     ...                           \n1984                      NaN     NaN     NaN  ...     NaN     NaN     NaN   \n1st to Die: A Novel       NaN     NaN     NaN  ...     NaN     NaN     NaN   \n2nd Chance                NaN     NaN     NaN  ...     NaN     NaN     NaN   \n4 Blondes                 NaN     NaN     NaN  ...     NaN     NaN     NaN   \n84 Charing Cross Road     NaN     NaN     NaN  ...     NaN     NaN     NaN   \n\nUser-ID                278828  278832  278836  278843  278844  278846  278854  \nBook-Title                                                                     \n1984                      NaN     NaN     NaN     NaN     NaN     NaN     NaN  \n1st to Die: A Novel       NaN     NaN     NaN     NaN     NaN     NaN     NaN  \n2nd Chance                NaN     NaN     NaN     NaN     NaN     NaN     NaN  \n4 Blondes                 NaN     NaN     NaN     NaN     NaN     NaN     NaN  \n84 Charing Cross Road     NaN     NaN     NaN     NaN     NaN     NaN     NaN  \n\n[5 rows x 24863 columns]",
      "text/html": "<div>\n<style scoped>\n    .dataframe tbody tr th:only-of-type {\n        vertical-align: middle;\n    }\n\n    .dataframe tbody tr th {\n        vertical-align: top;\n    }\n\n    .dataframe thead th {\n        text-align: right;\n    }\n</style>\n<table border=\"1\" class=\"dataframe\">\n  <thead>\n    <tr style=\"text-align: right;\">\n      <th>User-ID</th>\n      <th>9</th>\n      <th>16</th>\n      <th>26</th>\n      <th>32</th>\n      <th>42</th>\n      <th>51</th>\n      <th>91</th>\n      <th>97</th>\n      <th>99</th>\n      <th>114</th>\n      <th>...</th>\n      <th>278800</th>\n      <th>278807</th>\n      <th>278824</th>\n      <th>278828</th>\n      <th>278832</th>\n      <th>278836</th>\n      <th>278843</th>\n      <th>278844</th>\n      <th>278846</th>\n      <th>278854</th>\n    </tr>\n    <tr>\n      <th>Book-Title</th>\n      <th></th>\n      <th></th>\n      <th></th>\n      <th></th>\n      <th></th>\n      <th></th>\n      <th></th>\n      <th></th>\n      <th></th>\n      <th></th>\n      <th></th>\n      <th></th>\n      <th></th>\n      <th></th>\n      <th></th>\n      <th></th>\n      <th></th>\n      <th></th>\n      <th></th>\n      <th></th>\n      <th></th>\n    </tr>\n  </thead>\n  <tbody>\n    <tr>\n      <th>1984</th>\n      <td>NaN</td>\n      <td>NaN</td>\n      <td>NaN</td>\n      <td>NaN</td>\n      <td>NaN</td>\n      <td>NaN</td>\n      <td>NaN</td>\n      <td>NaN</td>\n      <td>NaN</td>\n      <td>NaN</td>\n      <td>...</td>\n      <td>NaN</td>\n      <td>NaN</td>\n      <td>NaN</td>\n      <td>NaN</td>\n      <td>NaN</td>\n      <td>NaN</td>\n      <td>NaN</td>\n      <td>NaN</td>\n      <td>NaN</td>\n      <td>NaN</td>\n    </tr>\n    <tr>\n      <th>1st to Die: A Novel</th>\n      <td>NaN</td>\n      <td>NaN</td>\n      <td>NaN</td>\n      <td>NaN</td>\n      <td>NaN</td>\n      <td>NaN</td>\n      <td>NaN</td>\n      <td>NaN</td>\n      <td>NaN</td>\n      <td>NaN</td>\n      <td>...</td>\n      <td>NaN</td>\n      <td>NaN</td>\n      <td>NaN</td>\n      <td>NaN</td>\n      <td>NaN</td>\n      <td>NaN</td>\n      <td>NaN</td>\n      <td>NaN</td>\n      <td>NaN</td>\n      <td>NaN</td>\n    </tr>\n    <tr>\n      <th>2nd Chance</th>\n      <td>NaN</td>\n      <td>NaN</td>\n      <td>NaN</td>\n      <td>NaN</td>\n      <td>NaN</td>\n      <td>NaN</td>\n      <td>NaN</td>\n      <td>NaN</td>\n      <td>NaN</td>\n      <td>NaN</td>\n      <td>...</td>\n      <td>NaN</td>\n      <td>NaN</td>\n      <td>NaN</td>\n      <td>NaN</td>\n      <td>NaN</td>\n      <td>NaN</td>\n      <td>NaN</td>\n      <td>NaN</td>\n      <td>NaN</td>\n      <td>NaN</td>\n    </tr>\n    <tr>\n      <th>4 Blondes</th>\n      <td>NaN</td>\n      <td>NaN</td>\n      <td>NaN</td>\n      <td>NaN</td>\n      <td>NaN</td>\n      <td>NaN</td>\n      <td>NaN</td>\n      <td>NaN</td>\n      <td>NaN</td>\n      <td>NaN</td>\n      <td>...</td>\n      <td>NaN</td>\n      <td>NaN</td>\n      <td>NaN</td>\n      <td>NaN</td>\n      <td>NaN</td>\n      <td>NaN</td>\n      <td>NaN</td>\n      <td>NaN</td>\n      <td>NaN</td>\n      <td>NaN</td>\n    </tr>\n    <tr>\n      <th>84 Charing Cross Road</th>\n      <td>NaN</td>\n      <td>NaN</td>\n      <td>NaN</td>\n      <td>NaN</td>\n      <td>NaN</td>\n      <td>NaN</td>\n      <td>NaN</td>\n      <td>NaN</td>\n      <td>NaN</td>\n      <td>NaN</td>\n      <td>...</td>\n      <td>NaN</td>\n      <td>NaN</td>\n      <td>NaN</td>\n      <td>NaN</td>\n      <td>NaN</td>\n      <td>NaN</td>\n      <td>NaN</td>\n      <td>NaN</td>\n      <td>NaN</td>\n      <td>NaN</td>\n    </tr>\n  </tbody>\n</table>\n<p>5 rows × 24863 columns</p>\n</div>"
     },
     "execution_count": 17,
     "metadata": {},
     "output_type": "execute_result"
    }
   ],
   "source": [
    "# Create pivot table (Book-Title/User-ID) filled with rating values\n",
    "\n",
    "book_user_rating=rating_popular_book.pivot_table('Book-Rating',index='Book-Title',columns='User-ID')\n",
    "book_user_rating.head()"
   ]
  },
  {
   "cell_type": "code",
   "execution_count": 18,
   "metadata": {},
   "outputs": [
    {
     "name": "stdout",
     "output_type": "stream",
     "text": [
      "651\n",
      "24863\n"
     ]
    }
   ],
   "source": [
    "\n",
    "print(len(book_user_rating))\n",
    "print(len(book_user_rating.columns))"
   ]
  },
  {
   "cell_type": "code",
   "execution_count": 19,
   "metadata": {},
   "outputs": [
    {
     "data": {
      "text/plain": "User-ID              9       16      26      32      42      51      91      \\\nBook-Title                                                                    \n1984                  0.000   0.000   0.000   0.000   0.000   0.000   0.000   \n1st to Die: A Novel   0.000   0.000   0.000   0.000   0.000   0.000   0.000   \n2nd Chance            0.000   0.000   0.000   0.000   0.000   0.000   0.000   \n\nUser-ID              97      99      114     ...  278800  278807  278824  \\\nBook-Title                                   ...                           \n1984                  0.000   0.000   0.000  ...   0.000   0.000   0.000   \n1st to Die: A Novel   0.000   0.000   0.000  ...   0.000   0.000   0.000   \n2nd Chance            0.000   0.000   0.000  ...   0.000   0.000   0.000   \n\nUser-ID              278828  278832  278836  278843  278844  278846  278854  \nBook-Title                                                                   \n1984                  0.000   0.000   0.000   0.000   0.000   0.000   0.000  \n1st to Die: A Novel   0.000   0.000   0.000   0.000   0.000   0.000   0.000  \n2nd Chance            0.000   0.000   0.000   0.000   0.000   0.000   0.000  \n\n[3 rows x 24863 columns]",
      "text/html": "<div>\n<style scoped>\n    .dataframe tbody tr th:only-of-type {\n        vertical-align: middle;\n    }\n\n    .dataframe tbody tr th {\n        vertical-align: top;\n    }\n\n    .dataframe thead th {\n        text-align: right;\n    }\n</style>\n<table border=\"1\" class=\"dataframe\">\n  <thead>\n    <tr style=\"text-align: right;\">\n      <th>User-ID</th>\n      <th>9</th>\n      <th>16</th>\n      <th>26</th>\n      <th>32</th>\n      <th>42</th>\n      <th>51</th>\n      <th>91</th>\n      <th>97</th>\n      <th>99</th>\n      <th>114</th>\n      <th>...</th>\n      <th>278800</th>\n      <th>278807</th>\n      <th>278824</th>\n      <th>278828</th>\n      <th>278832</th>\n      <th>278836</th>\n      <th>278843</th>\n      <th>278844</th>\n      <th>278846</th>\n      <th>278854</th>\n    </tr>\n    <tr>\n      <th>Book-Title</th>\n      <th></th>\n      <th></th>\n      <th></th>\n      <th></th>\n      <th></th>\n      <th></th>\n      <th></th>\n      <th></th>\n      <th></th>\n      <th></th>\n      <th></th>\n      <th></th>\n      <th></th>\n      <th></th>\n      <th></th>\n      <th></th>\n      <th></th>\n      <th></th>\n      <th></th>\n      <th></th>\n      <th></th>\n    </tr>\n  </thead>\n  <tbody>\n    <tr>\n      <th>1984</th>\n      <td>0.000</td>\n      <td>0.000</td>\n      <td>0.000</td>\n      <td>0.000</td>\n      <td>0.000</td>\n      <td>0.000</td>\n      <td>0.000</td>\n      <td>0.000</td>\n      <td>0.000</td>\n      <td>0.000</td>\n      <td>...</td>\n      <td>0.000</td>\n      <td>0.000</td>\n      <td>0.000</td>\n      <td>0.000</td>\n      <td>0.000</td>\n      <td>0.000</td>\n      <td>0.000</td>\n      <td>0.000</td>\n      <td>0.000</td>\n      <td>0.000</td>\n    </tr>\n    <tr>\n      <th>1st to Die: A Novel</th>\n      <td>0.000</td>\n      <td>0.000</td>\n      <td>0.000</td>\n      <td>0.000</td>\n      <td>0.000</td>\n      <td>0.000</td>\n      <td>0.000</td>\n      <td>0.000</td>\n      <td>0.000</td>\n      <td>0.000</td>\n      <td>...</td>\n      <td>0.000</td>\n      <td>0.000</td>\n      <td>0.000</td>\n      <td>0.000</td>\n      <td>0.000</td>\n      <td>0.000</td>\n      <td>0.000</td>\n      <td>0.000</td>\n      <td>0.000</td>\n      <td>0.000</td>\n    </tr>\n    <tr>\n      <th>2nd Chance</th>\n      <td>0.000</td>\n      <td>0.000</td>\n      <td>0.000</td>\n      <td>0.000</td>\n      <td>0.000</td>\n      <td>0.000</td>\n      <td>0.000</td>\n      <td>0.000</td>\n      <td>0.000</td>\n      <td>0.000</td>\n      <td>...</td>\n      <td>0.000</td>\n      <td>0.000</td>\n      <td>0.000</td>\n      <td>0.000</td>\n      <td>0.000</td>\n      <td>0.000</td>\n      <td>0.000</td>\n      <td>0.000</td>\n      <td>0.000</td>\n      <td>0.000</td>\n    </tr>\n  </tbody>\n</table>\n<p>3 rows × 24863 columns</p>\n</div>"
     },
     "execution_count": 19,
     "metadata": {},
     "output_type": "execute_result"
    }
   ],
   "source": [
    "# Fill NAN into 0.0\n",
    "book_user_rating.fillna(0,inplace=True)\n",
    "book_user_rating.head(3)"
   ]
  },
  {
   "cell_type": "code",
   "execution_count": 20,
   "metadata": {},
   "outputs": [],
   "source": [
    "# train, testset split\n",
    "trainset,testset = train_test_split(book_user_rating.T, test_size=0.0005,random_state=1)\n",
    "trainset=trainset.T\n",
    "testset=testset.T\n",
    "\n",
    "trainset=trainset.dropna()"
   ]
  },
  {
   "cell_type": "code",
   "execution_count": 21,
   "metadata": {},
   "outputs": [
    {
     "data": {
      "text/plain": "Book-Title             1984  1st to Die: A Novel  2nd Chance  4 Blondes  \\\nBook-Title                                                                \n1984                  1.000                0.023       0.007      0.000   \n1st to Die: A Novel   0.023                1.000       0.163      0.000   \n2nd Chance            0.007                0.163       1.000      0.011   \n4 Blondes             0.000                0.000       0.011      1.000   \n84 Charing Cross Road 0.033                0.009       0.009      0.000   \n\nBook-Title             84 Charing Cross Road  \\\nBook-Title                                     \n1984                                   0.033   \n1st to Die: A Novel                    0.009   \n2nd Chance                             0.009   \n4 Blondes                              0.000   \n84 Charing Cross Road                  1.000   \n\nBook-Title             A Beautiful Mind: The Life of Mathematical Genius and Nobel Laureate John Nash  \\\nBook-Title                                                                                              \n1984                                                               0.014                                \n1st to Die: A Novel                                                0.000                                \n2nd Chance                                                         0.000                                \n4 Blondes                                                          0.000                                \n84 Charing Cross Road                                              0.021                                \n\nBook-Title             A Bend in the Road  A Case of Need  \\\nBook-Title                                                  \n1984                                0.013           0.041   \n1st to Die: A Novel                 0.032           0.027   \n2nd Chance                          0.042           0.047   \n4 Blondes                           0.000           0.037   \n84 Charing Cross Road               0.008           0.029   \n\nBook-Title             A Child Called \\It\\\": One Child's Courage to Survive\"  \\\nBook-Title                                                                     \n1984                                                               0.019       \n1st to Die: A Novel                                                0.030       \n2nd Chance                                                         0.000       \n4 Blondes                                                          0.000       \n84 Charing Cross Road                                              0.010       \n\nBook-Title             A Confederacy of Dunces (Evergreen Book)  ...  Wifey  \\\nBook-Title                                                       ...          \n1984                                                      0.022  ...  0.026   \n1st to Die: A Novel                                       0.006  ...  0.025   \n2nd Chance                                                0.018  ...  0.051   \n4 Blondes                                                 0.012  ...  0.031   \n84 Charing Cross Road                                     0.039  ...  0.023   \n\nBook-Title             Wild Animus  Winter Solstice  Wish You Well  \\\nBook-Title                                                           \n1984                         0.018            0.014          0.020   \n1st to Die: A Novel          0.009            0.035          0.061   \n2nd Chance                   0.025            0.033          0.049   \n4 Blondes                    0.002            0.000          0.000   \n84 Charing Cross Road        0.025            0.021          0.022   \n\nBook-Title             Without Remorse  \\\nBook-Title                               \n1984                             0.011   \n1st to Die: A Novel              0.035   \n2nd Chance                       0.009   \n4 Blondes                        0.000   \n84 Charing Cross Road            0.014   \n\nBook-Title             Wizard and Glass (The Dark Tower, Book 4)  \\\nBook-Title                                                         \n1984                                                       0.049   \n1st to Die: A Novel                                        0.025   \n2nd Chance                                                 0.049   \n4 Blondes                                                  0.003   \n84 Charing Cross Road                                      0.025   \n\nBook-Title             Wuthering Heights  Year of Wonders  \\\nBook-Title                                                  \n1984                               0.028            0.023   \n1st to Die: A Novel                0.025            0.019   \n2nd Chance                         0.011            0.017   \n4 Blondes                          0.023            0.025   \n84 Charing Cross Road              0.017            0.000   \n\nBook-Title             Zen and the Art of Motorcycle Maintenance: An Inquiry into Values  \\\nBook-Title                                                                                 \n1984                                                               0.039                   \n1st to Die: A Novel                                                0.014                   \n2nd Chance                                                         0.009                   \n4 Blondes                                                          0.010                   \n84 Charing Cross Road                                              0.011                   \n\nBook-Title             \\O\\\" Is for Outlaw\"  \nBook-Title                                  \n1984                                 0.016  \n1st to Die: A Novel                  0.056  \n2nd Chance                           0.033  \n4 Blondes                            0.000  \n84 Charing Cross Road                0.035  \n\n[5 rows x 651 columns]",
      "text/html": "<div>\n<style scoped>\n    .dataframe tbody tr th:only-of-type {\n        vertical-align: middle;\n    }\n\n    .dataframe tbody tr th {\n        vertical-align: top;\n    }\n\n    .dataframe thead th {\n        text-align: right;\n    }\n</style>\n<table border=\"1\" class=\"dataframe\">\n  <thead>\n    <tr style=\"text-align: right;\">\n      <th>Book-Title</th>\n      <th>1984</th>\n      <th>1st to Die: A Novel</th>\n      <th>2nd Chance</th>\n      <th>4 Blondes</th>\n      <th>84 Charing Cross Road</th>\n      <th>A Beautiful Mind: The Life of Mathematical Genius and Nobel Laureate John Nash</th>\n      <th>A Bend in the Road</th>\n      <th>A Case of Need</th>\n      <th>A Child Called \\It\\\": One Child's Courage to Survive\"</th>\n      <th>A Confederacy of Dunces (Evergreen Book)</th>\n      <th>...</th>\n      <th>Wifey</th>\n      <th>Wild Animus</th>\n      <th>Winter Solstice</th>\n      <th>Wish You Well</th>\n      <th>Without Remorse</th>\n      <th>Wizard and Glass (The Dark Tower, Book 4)</th>\n      <th>Wuthering Heights</th>\n      <th>Year of Wonders</th>\n      <th>Zen and the Art of Motorcycle Maintenance: An Inquiry into Values</th>\n      <th>\\O\\\" Is for Outlaw\"</th>\n    </tr>\n    <tr>\n      <th>Book-Title</th>\n      <th></th>\n      <th></th>\n      <th></th>\n      <th></th>\n      <th></th>\n      <th></th>\n      <th></th>\n      <th></th>\n      <th></th>\n      <th></th>\n      <th></th>\n      <th></th>\n      <th></th>\n      <th></th>\n      <th></th>\n      <th></th>\n      <th></th>\n      <th></th>\n      <th></th>\n      <th></th>\n      <th></th>\n    </tr>\n  </thead>\n  <tbody>\n    <tr>\n      <th>1984</th>\n      <td>1.000</td>\n      <td>0.023</td>\n      <td>0.007</td>\n      <td>0.000</td>\n      <td>0.033</td>\n      <td>0.014</td>\n      <td>0.013</td>\n      <td>0.041</td>\n      <td>0.019</td>\n      <td>0.022</td>\n      <td>...</td>\n      <td>0.026</td>\n      <td>0.018</td>\n      <td>0.014</td>\n      <td>0.020</td>\n      <td>0.011</td>\n      <td>0.049</td>\n      <td>0.028</td>\n      <td>0.023</td>\n      <td>0.039</td>\n      <td>0.016</td>\n    </tr>\n    <tr>\n      <th>1st to Die: A Novel</th>\n      <td>0.023</td>\n      <td>1.000</td>\n      <td>0.163</td>\n      <td>0.000</td>\n      <td>0.009</td>\n      <td>0.000</td>\n      <td>0.032</td>\n      <td>0.027</td>\n      <td>0.030</td>\n      <td>0.006</td>\n      <td>...</td>\n      <td>0.025</td>\n      <td>0.009</td>\n      <td>0.035</td>\n      <td>0.061</td>\n      <td>0.035</td>\n      <td>0.025</td>\n      <td>0.025</td>\n      <td>0.019</td>\n      <td>0.014</td>\n      <td>0.056</td>\n    </tr>\n    <tr>\n      <th>2nd Chance</th>\n      <td>0.007</td>\n      <td>0.163</td>\n      <td>1.000</td>\n      <td>0.011</td>\n      <td>0.009</td>\n      <td>0.000</td>\n      <td>0.042</td>\n      <td>0.047</td>\n      <td>0.000</td>\n      <td>0.018</td>\n      <td>...</td>\n      <td>0.051</td>\n      <td>0.025</td>\n      <td>0.033</td>\n      <td>0.049</td>\n      <td>0.009</td>\n      <td>0.049</td>\n      <td>0.011</td>\n      <td>0.017</td>\n      <td>0.009</td>\n      <td>0.033</td>\n    </tr>\n    <tr>\n      <th>4 Blondes</th>\n      <td>0.000</td>\n      <td>0.000</td>\n      <td>0.011</td>\n      <td>1.000</td>\n      <td>0.000</td>\n      <td>0.000</td>\n      <td>0.000</td>\n      <td>0.037</td>\n      <td>0.000</td>\n      <td>0.012</td>\n      <td>...</td>\n      <td>0.031</td>\n      <td>0.002</td>\n      <td>0.000</td>\n      <td>0.000</td>\n      <td>0.000</td>\n      <td>0.003</td>\n      <td>0.023</td>\n      <td>0.025</td>\n      <td>0.010</td>\n      <td>0.000</td>\n    </tr>\n    <tr>\n      <th>84 Charing Cross Road</th>\n      <td>0.033</td>\n      <td>0.009</td>\n      <td>0.009</td>\n      <td>0.000</td>\n      <td>1.000</td>\n      <td>0.021</td>\n      <td>0.008</td>\n      <td>0.029</td>\n      <td>0.010</td>\n      <td>0.039</td>\n      <td>...</td>\n      <td>0.023</td>\n      <td>0.025</td>\n      <td>0.021</td>\n      <td>0.022</td>\n      <td>0.014</td>\n      <td>0.025</td>\n      <td>0.017</td>\n      <td>0.000</td>\n      <td>0.011</td>\n      <td>0.035</td>\n    </tr>\n  </tbody>\n</table>\n<p>5 rows × 651 columns</p>\n</div>"
     },
     "execution_count": 21,
     "metadata": {},
     "output_type": "execute_result"
    }
   ],
   "source": [
    "similarity_matrix=cosine_similarity(trainset)\n",
    "similarity_matrix=pd.DataFrame(data=similarity_matrix,index=trainset.index,columns=trainset.index)\n",
    "similarity_matrix.head()"
   ]
  },
  {
   "cell_type": "code",
   "execution_count": 22,
   "metadata": {},
   "outputs": [
    {
     "data": {
      "text/plain": "Book-Title\n1st to Die: A Novel                 1.000\n2nd Chance                          0.163\nRoses Are Red (Alex Cross Novels)   0.143\nViolets Are Blue                    0.138\nKiss the Girls                      0.126\nName: 1st to Die: A Novel, dtype: float64"
     },
     "execution_count": 22,
     "metadata": {},
     "output_type": "execute_result"
    }
   ],
   "source": [
    "similarity_matrix['1st to Die: A Novel'].sort_values(ascending=False)[:5]"
   ]
  },
  {
   "cell_type": "code",
   "execution_count": 23,
   "metadata": {},
   "outputs": [
    {
     "name": "stdout",
     "output_type": "stream",
     "text": [
      "[[  0  51  85]\n",
      " [  1   2 371]\n",
      " [  2   1 620]\n",
      " ...\n",
      " [648 292 593]\n",
      " [649  57 185]\n",
      " [650 210  92]]\n",
      "[[4.44089210e-16 8.44175106e-01 8.63022413e-01]\n",
      " [0.00000000e+00 8.36555091e-01 8.56674030e-01]\n",
      " [0.00000000e+00 8.36555091e-01 8.40768556e-01]\n",
      " ...\n",
      " [3.33066907e-16 9.19586846e-01 9.24079319e-01]\n",
      " [0.00000000e+00 9.07466512e-01 9.29253912e-01]\n",
      " [3.33066907e-16 8.04459732e-01 8.15560032e-01]]\n"
     ]
    }
   ],
   "source": [
    "# Use KNN algorithm with cosine similarity metric\n",
    "knn=NearestNeighbors(metric='cosine',algorithm='brute')\n",
    "knn.fit(book_user_rating.values)\n",
    "distances, indices=knn.kneighbors(book_user_rating.values,n_neighbors=3)\n",
    "print(indices)\n",
    "print(distances)"
   ]
  },
  {
   "cell_type": "code",
   "execution_count": 24,
   "metadata": {},
   "outputs": [],
   "source": [
    "# Create dataframe to write predicted rating\n",
    "predicted_df=pd.concat([trainset,testset],axis=1)"
   ]
  },
  {
   "cell_type": "code",
   "execution_count": 25,
   "metadata": {},
   "outputs": [],
   "source": [
    "# Function predicts rating of target user\n",
    "def itembased_predict_rating(df,user_id,number_neighbors,count):\n",
    "  \n",
    "  # find the nearest neighbors using KNN\n",
    "  # compute similarity with cosine similarity\n",
    "  knn = NearestNeighbors(metric='cosine', algorithm='brute')\n",
    "  knn.fit(df.values)\n",
    "  distances, indices = knn.kneighbors(df.values, n_neighbors=number_neighbors)\n",
    "\n",
    "  # convert user_id to user_index\n",
    "  user_index = df.columns.tolist().index(user_id)\n",
    "  # t: book_title, m: the row number of t in df\n",
    "  for m,t in list(enumerate(df.index)):\n",
    "    \n",
    "    # find books without ratings by target user\n",
    "    if df.iloc[m, user_index] == 0:\n",
    "      sim_books = indices[m].tolist()\n",
    "      book_distances = distances[m].tolist()\n",
    "      \n",
    "      # Generally, this is the case: indices[3] = [3 6 7]. The book itself is in the first place.\n",
    "      # In this case, we take off 3 from the list. Then, indices[3] == [6 7] to have the nearest NEIGHBORS in the list. \n",
    "      if m in sim_books:\n",
    "        id_book = sim_books.index(m)\n",
    "        sim_books.remove(m)\n",
    "        book_distances.pop(id_book) \n",
    "\n",
    "      # However, if the percentage of ratings in the dataset is very low, there are too many 0s in the dataset. \n",
    "      # Some books have all 0 ratings and the books with all 0s are considered the same books by NearestNeighbors(). \n",
    "      # Then,even the book itself cannot be included in the indices. \n",
    "      # For example, indices[3] = [2 4 7] is possible if book_2, book_3, book_4, and book_7 have all 0s for their ratings.\n",
    "      # In that case, we take off the farthest book in the list. Therefore, 7 is taken off from the list, then indices[3] == [2 4].\n",
    "      else:\n",
    "        sim_books = sim_books[:number_neighbors-1]\n",
    "        book_distances = book_distances[:number_neighbors-1]\n",
    "          \n",
    "      # book_similarty = 1 - book_distance    \n",
    "      book_similarity = [1-x for x in book_distances]\n",
    "      book_similarity_copy = book_similarity.copy()\n",
    "      nominator = 0\n",
    "\n",
    "      # for each similar book\n",
    "      for s in range(0, len(book_similarity)):\n",
    "        \n",
    "        # check if the rating of a similar book is zero\n",
    "        if df.iloc[sim_books[s], user_index] == 0:\n",
    "\n",
    "          # if the rating is zero, ignore the rating and the similarity in calculating the predicted rating\n",
    "          if len(book_similarity_copy) == (number_neighbors - 1):\n",
    "            book_similarity_copy.pop(s)\n",
    "            \n",
    "          else:\n",
    "            book_similarity_copy.pop(s-(len(book_similarity)-len(book_similarity_copy)))\n",
    "\n",
    "        # if the rating is not zero, use the rating and similarity in the calculation\n",
    "        else:\n",
    "          nominator = nominator + book_similarity[s]*df.iloc[sim_books[s],user_index]\n",
    "\n",
    "      # check if the number of the ratings with non-zero is positive\n",
    "      if len(book_similarity_copy) > 0:\n",
    "        \n",
    "        # check if the sum of the ratings of the similar books is positive.\n",
    "        if sum(book_similarity_copy) > 0:\n",
    "          predicted_r = nominator/sum(book_similarity_copy)\n",
    "\n",
    "        # Even if there are some books for which the ratings are positive, some books have zero similarity even though they are selected as similar books.\n",
    "        # in this case, the predicted rating becomes zero as well  \n",
    "        else:\n",
    "          predicted_r = 0\n",
    "\n",
    "      # if all the ratings of the similar books are zero, then predicted rating should be zero\n",
    "      else:\n",
    "        predicted_r = 0\n",
    "\n",
    "    # place the predicted rating into the copy of the original dataset\n",
    "      predicted_df.iloc[m,user_index+count] = predicted_r"
   ]
  },
  {
   "cell_type": "code",
   "execution_count": 37,
   "metadata": {},
   "outputs": [],
   "source": [
    "# Function that recommends books for each test user\n",
    "def recommend_books(user, num_recommended_books):\n",
    "\n",
    "\n",
    "\n",
    "  print('The list of the Books User_{} Have rated \\n'.format(user))\n",
    "\n",
    "  # print books that target user have rated.\n",
    "  for m in testset[testset[user] > 0][user].index.tolist():\n",
    "    print(m)\n",
    "  \n",
    "  print('\\n')\n",
    "\n",
    "  recommended_books = []\n",
    "\n",
    "  # recommend books among empty rated books\n",
    "  for m in testset[testset[user] == 0].index.tolist():\n",
    "\n",
    "    index_df = testset.index.tolist().index(m)\n",
    "    predicted_rating = predicted_df.iloc[index_df, predicted_df.columns.tolist().index(user)]\n",
    "    recommended_books.append((m, predicted_rating))\n",
    "\n",
    "  sorted_rm = sorted(recommended_books, key=lambda x:x[1], reverse=True)\n",
    "  \n",
    "  print('The list of the Recommended Books \\n')\n",
    "  rank = 1\n",
    "  result = []\n",
    "  for recommended_book in sorted_rm[:num_recommended_books]:\n",
    "    result.append('{}: {} - predicted rating:{}'.format(rank, recommended_book[0], recommended_book[1]))\n",
    "    rank = rank + 1\n",
    "\n",
    "  return result"
   ]
  },
  {
   "cell_type": "code",
   "execution_count": 35,
   "metadata": {},
   "outputs": [],
   "source": [
    "# predict ratings of test set\n",
    "count=0\n",
    "for target_userID in testset:\n",
    "        df=trainset.copy()\n",
    "        \n",
    "        # Concatenate new data for predict\n",
    "        df=pd.concat([trainset,testset[target_userID]],axis=1)\n",
    "\n",
    "        # Predict empty ratings of target user\n",
    "        itembased_predict_rating(df,target_userID,5,count)\n",
    "        count+=1"
   ]
  },
  {
   "cell_type": "code",
   "execution_count": 38,
   "metadata": {},
   "outputs": [
    {
     "name": "stdout",
     "output_type": "stream",
     "text": [
      "The list of the Books User_170693 Have rated \n",
      "\n",
      "Jewels of the Sun (Irish Trilogy)\n",
      "Tears of the Moon (Irish Trilogy)\n",
      "\n",
      "\n",
      "The list of the Recommended Books \n",
      "\n"
     ]
    },
    {
     "data": {
      "text/plain": "['1: Face the Fire (Three Sisters Island Trilogy) - predicted rating:7.0',\n '2: Mirror Image - predicted rating:7.0',\n '3: The Divine Secrets of the Ya-Ya Sisterhood: A Novel - predicted rating:7.0',\n '4: Carolina Moon - predicted rating:6.999999999999999',\n '5: Heaven and Earth (Three Sisters Island Trilogy) - predicted rating:6.500478700406949']"
     },
     "execution_count": 38,
     "metadata": {},
     "output_type": "execute_result"
    }
   ],
   "source": [
    "recommend_books(170693,5)"
   ]
  },
  {
   "cell_type": "code",
   "execution_count": null,
   "outputs": [],
   "source": [],
   "metadata": {
    "collapsed": false,
    "pycharm": {
     "name": "#%%\n"
    }
   }
  }
 ],
 "metadata": {
  "kernelspec": {
   "display_name": "Python 3 (ipykernel)",
   "language": "python",
   "name": "python3"
  },
  "language_info": {
   "codemirror_mode": {
    "name": "ipython",
    "version": 3
   },
   "file_extension": ".py",
   "mimetype": "text/x-python",
   "name": "python",
   "nbconvert_exporter": "python",
   "pygments_lexer": "ipython3",
   "version": "3.9.12"
  },
  "vscode": {
   "interpreter": {
    "hash": "357c545323fe2be9cd5e2ade2463c02095b4d8861977ed11033c6211052c6ef9"
   }
  }
 },
 "nbformat": 4,
 "nbformat_minor": 2
}